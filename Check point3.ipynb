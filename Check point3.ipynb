{
 "cells": [
  {
   "cell_type": "code",
   "execution_count": 1,
   "id": "dd91835e",
   "metadata": {},
   "outputs": [
    {
     "name": "stdout",
     "output_type": "stream",
     "text": [
      "36\n"
     ]
    }
   ],
   "source": [
    "#question1\n",
    "list=[2,3,6]\n",
    "r=1\n",
    "for i in range (len(list)):\n",
    "    r*=int(list[i])\n",
    "print(r)\n"
   ]
  },
  {
   "cell_type": "code",
   "execution_count": 3,
   "id": "82fea85c",
   "metadata": {},
   "outputs": [
    {
     "name": "stdout",
     "output_type": "stream",
     "text": [
      "[(2, 1), (1, 2), (2, 3), (4, 4), (2, 5)]\n"
     ]
    }
   ],
   "source": [
    "#question2\n",
    "list=[(2,5) , (1,2) , (4,4) , (2,3) , (2,1)]\n",
    "list.sort(key=lambda x:x[1])\n",
    "print(list)"
   ]
  },
  {
   "cell_type": "code",
   "execution_count": 7,
   "id": "70877d14",
   "metadata": {},
   "outputs": [
    {
     "name": "stdout",
     "output_type": "stream",
     "text": [
      "Counter({'a': 400, 'b': 400, 'd': 400, 'c': 300})\n"
     ]
    }
   ],
   "source": [
    "#question3\n",
    "from collections import Counter\n",
    "d1={'a':100, 'b':200, 'c':300}\n",
    "d2={'a':300, 'b':200, 'd':400}\n",
    "d3= Counter(d1) + Counter(d2)\n",
    "print(d3)"
   ]
  },
  {
   "cell_type": "code",
   "execution_count": 10,
   "id": "9d782249",
   "metadata": {},
   "outputs": [
    {
     "name": "stdout",
     "output_type": "stream",
     "text": [
      "entrez un nombre: 5\n",
      "{1: 1, 2: 4, 3: 9, 4: 16, 5: 25}\n"
     ]
    }
   ],
   "source": [
    "#question4\n",
    "num=int(input(\"entrez un nombre: \"))\n",
    "x=dict()\n",
    "for i in range(1,num+1):\n",
    "    x[i]=i*i\n",
    "print(x)"
   ]
  },
  {
   "cell_type": "code",
   "execution_count": 12,
   "id": "0c62df66",
   "metadata": {},
   "outputs": [
    {
     "name": "stdout",
     "output_type": "stream",
     "text": [
      "[('item3', '24.50'), ('item2', '15.10'), ('item1', '12.20')]\n"
     ]
    }
   ],
   "source": [
    "#question5\n",
    "list=[('item1', '12.20'), ('item2', '15.10'), ('item3', '24.50')]\n",
    "print(sorted(list, key=lambda x: float(x[1]), reverse= True))\n"
   ]
  },
  {
   "cell_type": "code",
   "execution_count": null,
   "id": "b2c6115f",
   "metadata": {},
   "outputs": [],
   "source": []
  }
 ],
 "metadata": {
  "kernelspec": {
   "display_name": "Python 3",
   "language": "python",
   "name": "python3"
  },
  "language_info": {
   "codemirror_mode": {
    "name": "ipython",
    "version": 3
   },
   "file_extension": ".py",
   "mimetype": "text/x-python",
   "name": "python",
   "nbconvert_exporter": "python",
   "pygments_lexer": "ipython3",
   "version": "3.8.8"
  }
 },
 "nbformat": 4,
 "nbformat_minor": 5
}
